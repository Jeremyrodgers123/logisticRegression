{
 "cells": [
  {
   "cell_type": "code",
   "execution_count": 1,
   "metadata": {},
   "outputs": [],
   "source": [
    "from bs4 import BeautifulSoup\n",
    "import urllib.request\n",
    "import pandas as pd\n",
    "import scipy as sc\n",
    "import numpy as np\n",
    "import re\n",
    "from pathlib import Path\n",
    "import statsmodels.formula.api as sm\n",
    "import matplotlib.pyplot as plt"
   ]
  },
  {
   "cell_type": "code",
   "execution_count": 2,
   "metadata": {},
   "outputs": [],
   "source": [
    "url = \"https://news.ycombinator.com/news?p=\"\n",
    "# here we actually access the website\n",
    "count = 1\n",
    "pages = []\n",
    "while count < 6:\n",
    "    with urllib.request.urlopen(url+ str(count)) as response:\n",
    "        html = response.read()\n",
    "        html = html.decode('utf-8')\n",
    "        pages.append(html) \n",
    "        count += 1"
   ]
  },
  {
   "cell_type": "code",
   "execution_count": 3,
   "metadata": {},
   "outputs": [],
   "source": [
    "# save the file\n",
    "with open('hacker_news.html', 'w') as new_file:\n",
    "    for page in pages: \n",
    "        new_file.write(page);\n",
    "\n",
    "soup = BeautifulSoup(open(\"hacker_news.html\"), 'html.parser')"
   ]
  },
  {
   "cell_type": "code",
   "execution_count": 4,
   "metadata": {},
   "outputs": [],
   "source": [
    "class Article():\n",
    "    def __init__(self):\n",
    "        pass\n",
    "        self.rank = None\n",
    "        self.title = None\n",
    "        self.age = None\n",
    "        self.points = None\n",
    "        self.comCount = None\n",
    "        self.titleLen = None\n",
    "    def setAge(self, age):\n",
    "        if age is None:\n",
    "            self.age = 0\n",
    "        else:\n",
    "            self.ageToMinutes(age.string)\n",
    "    \n",
    "    def setTitle(self, title):\n",
    "        if title is None:\n",
    "            self.title = ''\n",
    "        else:\n",
    "            self.title = title.string\n",
    "            self.titleLen = len(title.string)\n",
    "    \n",
    "    def setRank(self, rank):\n",
    "        if rank is None:\n",
    "            self.rank = 0\n",
    "        else:\n",
    "            self.cleanRank(rank.string)\n",
    "    \n",
    "    def setPoints(self, points):\n",
    "        if points is None:\n",
    "            self.points = 0\n",
    "        else:\n",
    "            self.parsePoints(points.string)\n",
    "            \n",
    "    def setComCount(self, comments):\n",
    "        if comments is None:\n",
    "            self.comCount = 0\n",
    "        elif 'comment' not in comments.string:\n",
    "            self.comCount = 0\n",
    "        else:\n",
    "            self.parseComments(comments.string)\n",
    "            \n",
    "    def ageToMinutes(self, age):\n",
    "        ageArr = age.split( )\n",
    "        ageArr[0] = int(ageArr[0])\n",
    "        if 'day' in ageArr[1]:\n",
    "            self.age = ageArr[0] * 24 * 60\n",
    "        elif 'hour' in ageArr[1]:\n",
    "            self.age = ageArr[0] * 60\n",
    "        elif 'minute' in ageArr[1]:\n",
    "            self.age = ageArr[0]\n",
    "        else:\n",
    "            print(\"age unknown\")\n",
    "            self.age = 0;\n",
    "            \n",
    "    def parsePoints(self, points):\n",
    "        pointsArr = points.split( )\n",
    "        self.points = int(pointsArr[0])\n",
    "        \n",
    "    def parseComments(self, comments):\n",
    "        commentsArr = comments.split( )\n",
    "        self.comCount = int(commentsArr[0])\n",
    "        \n",
    "    def cleanRank(self, rank):\n",
    "        rank = re.sub('[^0-9]','', rank)\n",
    "        self.rank = int(rank)\n",
    "        \n",
    "    def to_dict(self):\n",
    "        return {\n",
    "            'title': self.title,\n",
    "            'titleLen': self.titleLen,\n",
    "            'rank':self.rank,\n",
    "            'age': self.age,\n",
    "            'points': self.points,\n",
    "            'comCount': self.comCount\n",
    "        }\n",
    "       "
   ]
  },
  {
   "cell_type": "code",
   "execution_count": 5,
   "metadata": {},
   "outputs": [
    {
     "name": "stdout",
     "output_type": "stream",
     "text": [
      "300\n",
      "150\n"
     ]
    }
   ],
   "source": [
    "tables = soup.find_all(\"table\", class_=\"itemlist\")\n",
    "rows = []\n",
    "articles =[]\n",
    "for table in tables:\n",
    "    table_rows = table.find_all(\"tr\", class_=\"athing\")\n",
    "    for row in table_rows:\n",
    "        article = Article()\n",
    "        rank = row.find('span', class_=\"rank\").string\n",
    "        article.setRank(rank)\n",
    "        \n",
    "        title = row.find('a', class_=\"storylink\")\n",
    "        article.setTitle(title)\n",
    "        \n",
    "        subtext_row = row.find_next_sibling('tr')\n",
    "        age = subtext_row.find('span', class_=\"age\")\n",
    "        article.setAge(age)\n",
    "\n",
    "        points = subtext_row.find('span', class_=\"score\")\n",
    "        article.setPoints(points)\n",
    "        \n",
    "        smlTxtSpans = subtext_row.find_all('td', class_=\"subtext\")\n",
    "        commentCount = smlTxtSpans[0].find_all('a')[-1]\n",
    "        article.setComCount(commentCount)\n",
    "        \n",
    "        rows.append(row)\n",
    "        rows.append(subtext_row)\n",
    "        articles.append(article.to_dict())\n",
    "\n",
    "print(len(rows))\n",
    "print(len(articles))\n",
    "# [print(row.prettify(), \"\\n\\n\\n\") for row in rows[:10]]\n",
    "# [print(article.age) for article in articles[:10]]\n",
    "\n"
   ]
  },
  {
   "cell_type": "code",
   "execution_count": 6,
   "metadata": {},
   "outputs": [],
   "source": [
    "hn = pd.DataFrame.from_records(articles)"
   ]
  },
  {
   "cell_type": "code",
   "execution_count": 7,
   "metadata": {},
   "outputs": [
    {
     "name": "stdout",
     "output_type": "stream",
     "text": [
      "file already exists\n"
     ]
    }
   ],
   "source": [
    "path = Path.cwd() / \"hackernews.csv\"\n",
    "if not path.is_file():\n",
    "    hn.to_csv(\"hackernews.csv\")\n",
    "    print(\"file created\")\n",
    "else:\n",
    "    print(\"file already exists\")"
   ]
  },
  {
   "cell_type": "markdown",
   "metadata": {},
   "source": [
    "## Part 2 - Regression"
   ]
  },
  {
   "cell_type": "code",
   "execution_count": 8,
   "metadata": {},
   "outputs": [
    {
     "name": "stdout",
     "output_type": "stream",
     "text": [
      "               age    comCount       points        rank    titleLen\n",
      "count   150.000000  150.000000   150.000000  150.000000  150.000000\n",
      "mean    827.366667   68.806667   148.560000   75.500000   52.026667\n",
      "std     590.077738   98.042430   186.476926   43.445368   16.749616\n",
      "min      26.000000    0.000000     0.000000    1.000000   15.000000\n",
      "25%     360.000000    4.000000    23.500000   38.250000   40.250000\n",
      "50%     660.000000   29.000000    68.500000   75.500000   53.000000\n",
      "75%    1380.000000   99.000000   190.500000  112.750000   64.750000\n",
      "max    2880.000000  586.000000  1008.000000  150.000000   80.000000\n"
     ]
    }
   ],
   "source": [
    "print(hn.describe())"
   ]
  },
  {
   "cell_type": "code",
   "execution_count": 9,
   "metadata": {},
   "outputs": [
    {
     "data": {
      "text/html": [
       "<div>\n",
       "<style scoped>\n",
       "    .dataframe tbody tr th:only-of-type {\n",
       "        vertical-align: middle;\n",
       "    }\n",
       "\n",
       "    .dataframe tbody tr th {\n",
       "        vertical-align: top;\n",
       "    }\n",
       "\n",
       "    .dataframe thead th {\n",
       "        text-align: right;\n",
       "    }\n",
       "</style>\n",
       "<table border=\"1\" class=\"dataframe\">\n",
       "  <thead>\n",
       "    <tr style=\"text-align: right;\">\n",
       "      <th></th>\n",
       "      <th>age</th>\n",
       "      <th>comCount</th>\n",
       "      <th>points</th>\n",
       "      <th>rank</th>\n",
       "      <th>titleLen</th>\n",
       "    </tr>\n",
       "  </thead>\n",
       "  <tbody>\n",
       "    <tr>\n",
       "      <th>age</th>\n",
       "      <td>1.000000</td>\n",
       "      <td>0.361392</td>\n",
       "      <td>0.508198</td>\n",
       "      <td>0.581427</td>\n",
       "      <td>-0.036270</td>\n",
       "    </tr>\n",
       "    <tr>\n",
       "      <th>comCount</th>\n",
       "      <td>0.361392</td>\n",
       "      <td>1.000000</td>\n",
       "      <td>0.746104</td>\n",
       "      <td>-0.029695</td>\n",
       "      <td>-0.028760</td>\n",
       "    </tr>\n",
       "    <tr>\n",
       "      <th>points</th>\n",
       "      <td>0.508198</td>\n",
       "      <td>0.746104</td>\n",
       "      <td>1.000000</td>\n",
       "      <td>-0.032342</td>\n",
       "      <td>-0.042011</td>\n",
       "    </tr>\n",
       "    <tr>\n",
       "      <th>rank</th>\n",
       "      <td>0.581427</td>\n",
       "      <td>-0.029695</td>\n",
       "      <td>-0.032342</td>\n",
       "      <td>1.000000</td>\n",
       "      <td>0.074013</td>\n",
       "    </tr>\n",
       "    <tr>\n",
       "      <th>titleLen</th>\n",
       "      <td>-0.036270</td>\n",
       "      <td>-0.028760</td>\n",
       "      <td>-0.042011</td>\n",
       "      <td>0.074013</td>\n",
       "      <td>1.000000</td>\n",
       "    </tr>\n",
       "  </tbody>\n",
       "</table>\n",
       "</div>"
      ],
      "text/plain": [
       "               age  comCount    points      rank  titleLen\n",
       "age       1.000000  0.361392  0.508198  0.581427 -0.036270\n",
       "comCount  0.361392  1.000000  0.746104 -0.029695 -0.028760\n",
       "points    0.508198  0.746104  1.000000 -0.032342 -0.042011\n",
       "rank      0.581427 -0.029695 -0.032342  1.000000  0.074013\n",
       "titleLen -0.036270 -0.028760 -0.042011  0.074013  1.000000"
      ]
     },
     "execution_count": 9,
     "metadata": {},
     "output_type": "execute_result"
    }
   ],
   "source": [
    "hn.corr()"
   ]
  },
  {
   "cell_type": "code",
   "execution_count": 10,
   "metadata": {},
   "outputs": [
    {
     "data": {
      "text/plain": [
       "array([[<matplotlib.axes._subplots.AxesSubplot object at 0x1169f6780>,\n",
       "        <matplotlib.axes._subplots.AxesSubplot object at 0x102cde978>,\n",
       "        <matplotlib.axes._subplots.AxesSubplot object at 0x118a20f28>,\n",
       "        <matplotlib.axes._subplots.AxesSubplot object at 0x118a58518>,\n",
       "        <matplotlib.axes._subplots.AxesSubplot object at 0x118a87a58>],\n",
       "       [<matplotlib.axes._subplots.AxesSubplot object at 0x118ac1048>,\n",
       "        <matplotlib.axes._subplots.AxesSubplot object at 0x118aef5f8>,\n",
       "        <matplotlib.axes._subplots.AxesSubplot object at 0x118b1fbe0>,\n",
       "        <matplotlib.axes._subplots.AxesSubplot object at 0x118b1fc18>,\n",
       "        <matplotlib.axes._subplots.AxesSubplot object at 0x118b8f748>],\n",
       "       [<matplotlib.axes._subplots.AxesSubplot object at 0x118bc0cc0>,\n",
       "        <matplotlib.axes._subplots.AxesSubplot object at 0x118bfc2b0>,\n",
       "        <matplotlib.axes._subplots.AxesSubplot object at 0x118c2d860>,\n",
       "        <matplotlib.axes._subplots.AxesSubplot object at 0x118c5fdd8>,\n",
       "        <matplotlib.axes._subplots.AxesSubplot object at 0x118c9d3c8>],\n",
       "       [<matplotlib.axes._subplots.AxesSubplot object at 0x118ccd978>,\n",
       "        <matplotlib.axes._subplots.AxesSubplot object at 0x118d00f28>,\n",
       "        <matplotlib.axes._subplots.AxesSubplot object at 0x118d3c4e0>,\n",
       "        <matplotlib.axes._subplots.AxesSubplot object at 0x118d6ba90>,\n",
       "        <matplotlib.axes._subplots.AxesSubplot object at 0x118dab080>],\n",
       "       [<matplotlib.axes._subplots.AxesSubplot object at 0x118dd9630>,\n",
       "        <matplotlib.axes._subplots.AxesSubplot object at 0x118e0cbe0>,\n",
       "        <matplotlib.axes._subplots.AxesSubplot object at 0x118e4b1d0>,\n",
       "        <matplotlib.axes._subplots.AxesSubplot object at 0x118e7b780>,\n",
       "        <matplotlib.axes._subplots.AxesSubplot object at 0x118eadd30>]],\n",
       "      dtype=object)"
      ]
     },
     "execution_count": 10,
     "metadata": {},
     "output_type": "execute_result"
    },
    {
     "data": {
      "image/png": "[encoded data removed]",
      "text/plain": [
       "<Figure size 720x720 with 25 Axes>"
      ]
     },
     "metadata": {
      "needs_background": "light"
     },
     "output_type": "display_data"
    }
   ],
   "source": [
    "pd.plotting.scatter_matrix(hn, figsize=(10, 10))"
   ]
  },
  {
   "cell_type": "code",
   "execution_count": 11,
   "metadata": {},
   "outputs": [
    {
     "data": {
      "text/html": [
       "<table class=\"simpletable\">\n",
       "<caption>OLS Regression Results</caption>\n",
       "<tr>\n",
       "  <th>Dep. Variable:</th>          <td>rank</td>       <th>  R-squared:         </th> <td>   0.001</td>\n",
       "</tr>\n",
       "<tr>\n",
       "  <th>Model:</th>                   <td>OLS</td>       <th>  Adj. R-squared:    </th> <td>  -0.006</td>\n",
       "</tr>\n",
       "<tr>\n",
       "  <th>Method:</th>             <td>Least Squares</td>  <th>  F-statistic:       </th> <td>  0.1306</td>\n",
       "</tr>\n",
       "<tr>\n",
       "  <th>Date:</th>             <td>Wed, 05 Jun 2019</td> <th>  Prob (F-statistic):</th>  <td> 0.718</td> \n",
       "</tr>\n",
       "<tr>\n",
       "  <th>Time:</th>                 <td>17:22:31</td>     <th>  Log-Likelihood:    </th> <td> -778.00</td>\n",
       "</tr>\n",
       "<tr>\n",
       "  <th>No. Observations:</th>      <td>   150</td>      <th>  AIC:               </th> <td>   1560.</td>\n",
       "</tr>\n",
       "<tr>\n",
       "  <th>Df Residuals:</th>          <td>   148</td>      <th>  BIC:               </th> <td>   1566.</td>\n",
       "</tr>\n",
       "<tr>\n",
       "  <th>Df Model:</th>              <td>     1</td>      <th>                     </th>     <td> </td>   \n",
       "</tr>\n",
       "<tr>\n",
       "  <th>Covariance Type:</th>      <td>nonrobust</td>    <th>                     </th>     <td> </td>   \n",
       "</tr>\n",
       "</table>\n",
       "<table class=\"simpletable\">\n",
       "<tr>\n",
       "      <td></td>         <th>coef</th>     <th>std err</th>      <th>t</th>      <th>P>|t|</th>  <th>[0.025</th>    <th>0.975]</th>  \n",
       "</tr>\n",
       "<tr>\n",
       "  <th>Intercept</th> <td>   76.4054</td> <td>    4.351</td> <td>   17.560</td> <td> 0.000</td> <td>   67.807</td> <td>   85.004</td>\n",
       "</tr>\n",
       "<tr>\n",
       "  <th>comCount</th>  <td>   -0.0132</td> <td>    0.036</td> <td>   -0.361</td> <td> 0.718</td> <td>   -0.085</td> <td>    0.059</td>\n",
       "</tr>\n",
       "</table>\n",
       "<table class=\"simpletable\">\n",
       "<tr>\n",
       "  <th>Omnibus:</th>       <td>59.461</td> <th>  Durbin-Watson:     </th> <td>   0.002</td>\n",
       "</tr>\n",
       "<tr>\n",
       "  <th>Prob(Omnibus):</th> <td> 0.000</td> <th>  Jarque-Bera (JB):  </th> <td>   8.923</td>\n",
       "</tr>\n",
       "<tr>\n",
       "  <th>Skew:</th>          <td>-0.005</td> <th>  Prob(JB):          </th> <td>  0.0115</td>\n",
       "</tr>\n",
       "<tr>\n",
       "  <th>Kurtosis:</th>      <td> 1.805</td> <th>  Cond. No.          </th> <td>    146.</td>\n",
       "</tr>\n",
       "</table><br/><br/>Warnings:<br/>[1] Standard Errors assume that the covariance matrix of the errors is correctly specified."
      ],
      "text/plain": [
       "<class 'statsmodels.iolib.summary.Summary'>\n",
       "\"\"\"\n",
       "                            OLS Regression Results                            \n",
       "==============================================================================\n",
       "Dep. Variable:                   rank   R-squared:                       0.001\n",
       "Model:                            OLS   Adj. R-squared:                 -0.006\n",
       "Method:                 Least Squares   F-statistic:                    0.1306\n",
       "Date:                Wed, 05 Jun 2019   Prob (F-statistic):              0.718\n",
       "Time:                        17:22:31   Log-Likelihood:                -778.00\n",
       "No. Observations:                 150   AIC:                             1560.\n",
       "Df Residuals:                     148   BIC:                             1566.\n",
       "Df Model:                           1                                         \n",
       "Covariance Type:            nonrobust                                         \n",
       "==============================================================================\n",
       "                 coef    std err          t      P>|t|      [0.025      0.975]\n",
       "------------------------------------------------------------------------------\n",
       "Intercept     76.4054      4.351     17.560      0.000      67.807      85.004\n",
       "comCount      -0.0132      0.036     -0.361      0.718      -0.085       0.059\n",
       "==============================================================================\n",
       "Omnibus:                       59.461   Durbin-Watson:                   0.002\n",
       "Prob(Omnibus):                  0.000   Jarque-Bera (JB):                8.923\n",
       "Skew:                          -0.005   Prob(JB):                       0.0115\n",
       "Kurtosis:                       1.805   Cond. No.                         146.\n",
       "==============================================================================\n",
       "\n",
       "Warnings:\n",
       "[1] Standard Errors assume that the covariance matrix of the errors is correctly specified.\n",
       "\"\"\""
      ]
     },
     "execution_count": 11,
     "metadata": {},
     "output_type": "execute_result"
    }
   ],
   "source": [
    "rank_comCount_ols = sm.ols(data=hn, formula=\"rank ~ comCount\").fit()\n",
    "rank_comCount_ols.summary()"
   ]
  },
  {
   "cell_type": "markdown",
   "metadata": {},
   "source": [
    "#### Based on the above regression summary, it can be concluded that comCount explains almost none of the variance of Rank. The r2 value is 0.001 and the p value, which is the probability that there is no relationship between the variables is 72%. "
   ]
  },
  {
   "cell_type": "code",
   "execution_count": 22,
   "metadata": {},
   "outputs": [
    {
     "data": {
      "text/html": [
       "<table class=\"simpletable\">\n",
       "<caption>OLS Regression Results</caption>\n",
       "<tr>\n",
       "  <th>Dep. Variable:</th>          <td>rank</td>       <th>  R-squared:         </th> <td>   0.338</td>\n",
       "</tr>\n",
       "<tr>\n",
       "  <th>Model:</th>                   <td>OLS</td>       <th>  Adj. R-squared:    </th> <td>   0.334</td>\n",
       "</tr>\n",
       "<tr>\n",
       "  <th>Method:</th>             <td>Least Squares</td>  <th>  F-statistic:       </th> <td>   75.58</td>\n",
       "</tr>\n",
       "<tr>\n",
       "  <th>Date:</th>             <td>Wed, 05 Jun 2019</td> <th>  Prob (F-statistic):</th> <td>6.12e-15</td>\n",
       "</tr>\n",
       "<tr>\n",
       "  <th>Time:</th>                 <td>17:35:02</td>     <th>  Log-Likelihood:    </th> <td> -747.12</td>\n",
       "</tr>\n",
       "<tr>\n",
       "  <th>No. Observations:</th>      <td>   150</td>      <th>  AIC:               </th> <td>   1498.</td>\n",
       "</tr>\n",
       "<tr>\n",
       "  <th>Df Residuals:</th>          <td>   148</td>      <th>  BIC:               </th> <td>   1504.</td>\n",
       "</tr>\n",
       "<tr>\n",
       "  <th>Df Model:</th>              <td>     1</td>      <th>                     </th>     <td> </td>   \n",
       "</tr>\n",
       "<tr>\n",
       "  <th>Covariance Type:</th>      <td>nonrobust</td>    <th>                     </th>     <td> </td>   \n",
       "</tr>\n",
       "</table>\n",
       "<table class=\"simpletable\">\n",
       "<tr>\n",
       "      <td></td>         <th>coef</th>     <th>std err</th>      <th>t</th>      <th>P>|t|</th>  <th>[0.025</th>    <th>0.975]</th>  \n",
       "</tr>\n",
       "<tr>\n",
       "  <th>Intercept</th> <td>   40.0817</td> <td>    4.998</td> <td>    8.019</td> <td> 0.000</td> <td>   30.205</td> <td>   49.959</td>\n",
       "</tr>\n",
       "<tr>\n",
       "  <th>age</th>       <td>    0.0428</td> <td>    0.005</td> <td>    8.694</td> <td> 0.000</td> <td>    0.033</td> <td>    0.053</td>\n",
       "</tr>\n",
       "</table>\n",
       "<table class=\"simpletable\">\n",
       "<tr>\n",
       "  <th>Omnibus:</th>       <td> 8.576</td> <th>  Durbin-Watson:     </th> <td>   0.659</td>\n",
       "</tr>\n",
       "<tr>\n",
       "  <th>Prob(Omnibus):</th> <td> 0.014</td> <th>  Jarque-Bera (JB):  </th> <td>   7.633</td>\n",
       "</tr>\n",
       "<tr>\n",
       "  <th>Skew:</th>          <td> 0.478</td> <th>  Prob(JB):          </th> <td>  0.0220</td>\n",
       "</tr>\n",
       "<tr>\n",
       "  <th>Kurtosis:</th>      <td> 2.444</td> <th>  Cond. No.          </th> <td>1.75e+03</td>\n",
       "</tr>\n",
       "</table><br/><br/>Warnings:<br/>[1] Standard Errors assume that the covariance matrix of the errors is correctly specified.<br/>[2] The condition number is large, 1.75e+03. This might indicate that there are<br/>strong multicollinearity or other numerical problems."
      ],
      "text/plain": [
       "<class 'statsmodels.iolib.summary.Summary'>\n",
       "\"\"\"\n",
       "                            OLS Regression Results                            \n",
       "==============================================================================\n",
       "Dep. Variable:                   rank   R-squared:                       0.338\n",
       "Model:                            OLS   Adj. R-squared:                  0.334\n",
       "Method:                 Least Squares   F-statistic:                     75.58\n",
       "Date:                Wed, 05 Jun 2019   Prob (F-statistic):           6.12e-15\n",
       "Time:                        17:35:02   Log-Likelihood:                -747.12\n",
       "No. Observations:                 150   AIC:                             1498.\n",
       "Df Residuals:                     148   BIC:                             1504.\n",
       "Df Model:                           1                                         \n",
       "Covariance Type:            nonrobust                                         \n",
       "==============================================================================\n",
       "                 coef    std err          t      P>|t|      [0.025      0.975]\n",
       "------------------------------------------------------------------------------\n",
       "Intercept     40.0817      4.998      8.019      0.000      30.205      49.959\n",
       "age            0.0428      0.005      8.694      0.000       0.033       0.053\n",
       "==============================================================================\n",
       "Omnibus:                        8.576   Durbin-Watson:                   0.659\n",
       "Prob(Omnibus):                  0.014   Jarque-Bera (JB):                7.633\n",
       "Skew:                           0.478   Prob(JB):                       0.0220\n",
       "Kurtosis:                       2.444   Cond. No.                     1.75e+03\n",
       "==============================================================================\n",
       "\n",
       "Warnings:\n",
       "[1] Standard Errors assume that the covariance matrix of the errors is correctly specified.\n",
       "[2] The condition number is large, 1.75e+03. This might indicate that there are\n",
       "strong multicollinearity or other numerical problems.\n",
       "\"\"\""
      ]
     },
     "execution_count": 22,
     "metadata": {},
     "output_type": "execute_result"
    }
   ],
   "source": [
    "age_comCount_ols = sm.ols(data=hn, formula=\"rank ~ age\").fit()\n",
    "age_comCount_ols.summary()"
   ]
  },
  {
   "cell_type": "markdown",
   "metadata": {},
   "source": [
    "#### age is still not a strong predictor of rank as only 34% of the variation in rank can be explained by age according to the r2 value. However, the probability that the relationship is 0 is 0 according to the p value. This is therefore much better than comCount"
   ]
  },
  {
   "cell_type": "code",
   "execution_count": 23,
   "metadata": {},
   "outputs": [
    {
     "data": {
      "text/html": [
       "<table class=\"simpletable\">\n",
       "<caption>OLS Regression Results</caption>\n",
       "<tr>\n",
       "  <th>Dep. Variable:</th>          <td>rank</td>       <th>  R-squared:         </th> <td>   0.483</td>\n",
       "</tr>\n",
       "<tr>\n",
       "  <th>Model:</th>                   <td>OLS</td>       <th>  Adj. R-squared:    </th> <td>   0.476</td>\n",
       "</tr>\n",
       "<tr>\n",
       "  <th>Method:</th>             <td>Least Squares</td>  <th>  F-statistic:       </th> <td>   68.65</td>\n",
       "</tr>\n",
       "<tr>\n",
       "  <th>Date:</th>             <td>Wed, 05 Jun 2019</td> <th>  Prob (F-statistic):</th> <td>8.81e-22</td>\n",
       "</tr>\n",
       "<tr>\n",
       "  <th>Time:</th>                 <td>17:38:06</td>     <th>  Log-Likelihood:    </th> <td> -728.59</td>\n",
       "</tr>\n",
       "<tr>\n",
       "  <th>No. Observations:</th>      <td>   150</td>      <th>  AIC:               </th> <td>   1463.</td>\n",
       "</tr>\n",
       "<tr>\n",
       "  <th>Df Residuals:</th>          <td>   147</td>      <th>  BIC:               </th> <td>   1472.</td>\n",
       "</tr>\n",
       "<tr>\n",
       "  <th>Df Model:</th>              <td>     2</td>      <th>                     </th>     <td> </td>   \n",
       "</tr>\n",
       "<tr>\n",
       "  <th>Covariance Type:</th>      <td>nonrobust</td>    <th>                     </th>     <td> </td>   \n",
       "</tr>\n",
       "</table>\n",
       "<table class=\"simpletable\">\n",
       "<tr>\n",
       "      <td></td>         <th>coef</th>     <th>std err</th>      <th>t</th>      <th>P>|t|</th>  <th>[0.025</th>    <th>0.975]</th>  \n",
       "</tr>\n",
       "<tr>\n",
       "  <th>Intercept</th> <td>   41.6967</td> <td>    4.440</td> <td>    9.392</td> <td> 0.000</td> <td>   32.923</td> <td>   50.470</td>\n",
       "</tr>\n",
       "<tr>\n",
       "  <th>age</th>       <td>    0.0593</td> <td>    0.005</td> <td>   11.705</td> <td> 0.000</td> <td>    0.049</td> <td>    0.069</td>\n",
       "</tr>\n",
       "<tr>\n",
       "  <th>points</th>    <td>   -0.1030</td> <td>    0.016</td> <td>   -6.418</td> <td> 0.000</td> <td>   -0.135</td> <td>   -0.071</td>\n",
       "</tr>\n",
       "</table>\n",
       "<table class=\"simpletable\">\n",
       "<tr>\n",
       "  <th>Omnibus:</th>       <td>13.468</td> <th>  Durbin-Watson:     </th> <td>   0.927</td>\n",
       "</tr>\n",
       "<tr>\n",
       "  <th>Prob(Omnibus):</th> <td> 0.001</td> <th>  Jarque-Bera (JB):  </th> <td>  15.162</td>\n",
       "</tr>\n",
       "<tr>\n",
       "  <th>Skew:</th>          <td> 0.779</td> <th>  Prob(JB):          </th> <td>0.000510</td>\n",
       "</tr>\n",
       "<tr>\n",
       "  <th>Kurtosis:</th>      <td> 2.971</td> <th>  Cond. No.          </th> <td>1.78e+03</td>\n",
       "</tr>\n",
       "</table><br/><br/>Warnings:<br/>[1] Standard Errors assume that the covariance matrix of the errors is correctly specified.<br/>[2] The condition number is large, 1.78e+03. This might indicate that there are<br/>strong multicollinearity or other numerical problems."
      ],
      "text/plain": [
       "<class 'statsmodels.iolib.summary.Summary'>\n",
       "\"\"\"\n",
       "                            OLS Regression Results                            \n",
       "==============================================================================\n",
       "Dep. Variable:                   rank   R-squared:                       0.483\n",
       "Model:                            OLS   Adj. R-squared:                  0.476\n",
       "Method:                 Least Squares   F-statistic:                     68.65\n",
       "Date:                Wed, 05 Jun 2019   Prob (F-statistic):           8.81e-22\n",
       "Time:                        17:38:06   Log-Likelihood:                -728.59\n",
       "No. Observations:                 150   AIC:                             1463.\n",
       "Df Residuals:                     147   BIC:                             1472.\n",
       "Df Model:                           2                                         \n",
       "Covariance Type:            nonrobust                                         \n",
       "==============================================================================\n",
       "                 coef    std err          t      P>|t|      [0.025      0.975]\n",
       "------------------------------------------------------------------------------\n",
       "Intercept     41.6967      4.440      9.392      0.000      32.923      50.470\n",
       "age            0.0593      0.005     11.705      0.000       0.049       0.069\n",
       "points        -0.1030      0.016     -6.418      0.000      -0.135      -0.071\n",
       "==============================================================================\n",
       "Omnibus:                       13.468   Durbin-Watson:                   0.927\n",
       "Prob(Omnibus):                  0.001   Jarque-Bera (JB):               15.162\n",
       "Skew:                           0.779   Prob(JB):                     0.000510\n",
       "Kurtosis:                       2.971   Cond. No.                     1.78e+03\n",
       "==============================================================================\n",
       "\n",
       "Warnings:\n",
       "[1] Standard Errors assume that the covariance matrix of the errors is correctly specified.\n",
       "[2] The condition number is large, 1.78e+03. This might indicate that there are\n",
       "strong multicollinearity or other numerical problems.\n",
       "\"\"\""
      ]
     },
     "execution_count": 23,
     "metadata": {},
     "output_type": "execute_result"
    }
   ],
   "source": [
    "age_comCount_ols = sm.ols(data=hn, formula=\"rank ~ age + points\").fit()\n",
    "age_comCount_ols.summary()"
   ]
  },
  {
   "cell_type": "markdown",
   "metadata": {},
   "source": [
    "#### Together age and points can explain 48% of the variation in rank. This is an improvement over age alone and our p value for points is also 0. Therefore, this is a better model than the previous."
   ]
  },
  {
   "cell_type": "code",
   "execution_count": 24,
   "metadata": {},
   "outputs": [
    {
     "data": {
      "text/html": [
       "<table class=\"simpletable\">\n",
       "<caption>OLS Regression Results</caption>\n",
       "<tr>\n",
       "  <th>Dep. Variable:</th>          <td>rank</td>       <th>  R-squared:         </th> <td>   0.490</td>\n",
       "</tr>\n",
       "<tr>\n",
       "  <th>Model:</th>                   <td>OLS</td>       <th>  Adj. R-squared:    </th> <td>   0.480</td>\n",
       "</tr>\n",
       "<tr>\n",
       "  <th>Method:</th>             <td>Least Squares</td>  <th>  F-statistic:       </th> <td>   46.78</td>\n",
       "</tr>\n",
       "<tr>\n",
       "  <th>Date:</th>             <td>Wed, 05 Jun 2019</td> <th>  Prob (F-statistic):</th> <td>3.01e-21</td>\n",
       "</tr>\n",
       "<tr>\n",
       "  <th>Time:</th>                 <td>17:39:57</td>     <th>  Log-Likelihood:    </th> <td> -727.54</td>\n",
       "</tr>\n",
       "<tr>\n",
       "  <th>No. Observations:</th>      <td>   150</td>      <th>  AIC:               </th> <td>   1463.</td>\n",
       "</tr>\n",
       "<tr>\n",
       "  <th>Df Residuals:</th>          <td>   146</td>      <th>  BIC:               </th> <td>   1475.</td>\n",
       "</tr>\n",
       "<tr>\n",
       "  <th>Df Model:</th>              <td>     3</td>      <th>                     </th>     <td> </td>   \n",
       "</tr>\n",
       "<tr>\n",
       "  <th>Covariance Type:</th>      <td>nonrobust</td>    <th>                     </th>     <td> </td>   \n",
       "</tr>\n",
       "</table>\n",
       "<table class=\"simpletable\">\n",
       "<tr>\n",
       "      <td></td>         <th>coef</th>     <th>std err</th>      <th>t</th>      <th>P>|t|</th>  <th>[0.025</th>    <th>0.975]</th>  \n",
       "</tr>\n",
       "<tr>\n",
       "  <th>Intercept</th> <td>   30.0482</td> <td>    9.247</td> <td>    3.249</td> <td> 0.001</td> <td>   11.772</td> <td>   48.324</td>\n",
       "</tr>\n",
       "<tr>\n",
       "  <th>age</th>       <td>    0.0595</td> <td>    0.005</td> <td>   11.770</td> <td> 0.000</td> <td>    0.049</td> <td>    0.069</td>\n",
       "</tr>\n",
       "<tr>\n",
       "  <th>points</th>    <td>   -0.1023</td> <td>    0.016</td> <td>   -6.399</td> <td> 0.000</td> <td>   -0.134</td> <td>   -0.071</td>\n",
       "</tr>\n",
       "<tr>\n",
       "  <th>titleLen</th>  <td>    0.2201</td> <td>    0.153</td> <td>    1.434</td> <td> 0.154</td> <td>   -0.083</td> <td>    0.523</td>\n",
       "</tr>\n",
       "</table>\n",
       "<table class=\"simpletable\">\n",
       "<tr>\n",
       "  <th>Omnibus:</th>       <td>12.511</td> <th>  Durbin-Watson:     </th> <td>   0.965</td>\n",
       "</tr>\n",
       "<tr>\n",
       "  <th>Prob(Omnibus):</th> <td> 0.002</td> <th>  Jarque-Bera (JB):  </th> <td>  13.920</td>\n",
       "</tr>\n",
       "<tr>\n",
       "  <th>Skew:</th>          <td> 0.746</td> <th>  Prob(JB):          </th> <td>0.000949</td>\n",
       "</tr>\n",
       "<tr>\n",
       "  <th>Kurtosis:</th>      <td> 2.946</td> <th>  Cond. No.          </th> <td>3.73e+03</td>\n",
       "</tr>\n",
       "</table><br/><br/>Warnings:<br/>[1] Standard Errors assume that the covariance matrix of the errors is correctly specified.<br/>[2] The condition number is large, 3.73e+03. This might indicate that there are<br/>strong multicollinearity or other numerical problems."
      ],
      "text/plain": [
       "<class 'statsmodels.iolib.summary.Summary'>\n",
       "\"\"\"\n",
       "                            OLS Regression Results                            \n",
       "==============================================================================\n",
       "Dep. Variable:                   rank   R-squared:                       0.490\n",
       "Model:                            OLS   Adj. R-squared:                  0.480\n",
       "Method:                 Least Squares   F-statistic:                     46.78\n",
       "Date:                Wed, 05 Jun 2019   Prob (F-statistic):           3.01e-21\n",
       "Time:                        17:39:57   Log-Likelihood:                -727.54\n",
       "No. Observations:                 150   AIC:                             1463.\n",
       "Df Residuals:                     146   BIC:                             1475.\n",
       "Df Model:                           3                                         \n",
       "Covariance Type:            nonrobust                                         \n",
       "==============================================================================\n",
       "                 coef    std err          t      P>|t|      [0.025      0.975]\n",
       "------------------------------------------------------------------------------\n",
       "Intercept     30.0482      9.247      3.249      0.001      11.772      48.324\n",
       "age            0.0595      0.005     11.770      0.000       0.049       0.069\n",
       "points        -0.1023      0.016     -6.399      0.000      -0.134      -0.071\n",
       "titleLen       0.2201      0.153      1.434      0.154      -0.083       0.523\n",
       "==============================================================================\n",
       "Omnibus:                       12.511   Durbin-Watson:                   0.965\n",
       "Prob(Omnibus):                  0.002   Jarque-Bera (JB):               13.920\n",
       "Skew:                           0.746   Prob(JB):                     0.000949\n",
       "Kurtosis:                       2.946   Cond. No.                     3.73e+03\n",
       "==============================================================================\n",
       "\n",
       "Warnings:\n",
       "[1] Standard Errors assume that the covariance matrix of the errors is correctly specified.\n",
       "[2] The condition number is large, 3.73e+03. This might indicate that there are\n",
       "strong multicollinearity or other numerical problems.\n",
       "\"\"\""
      ]
     },
     "execution_count": 24,
     "metadata": {},
     "output_type": "execute_result"
    }
   ],
   "source": [
    "age_comCount_ols = sm.ols(data=hn, formula=\"rank ~ age + points + titleLen\").fit()\n",
    "age_comCount_ols.summary()"
   ]
  },
  {
   "cell_type": "markdown",
   "metadata": {},
   "source": [
    "#### Adding the title length does not do much to improve our model increasing the r2 value less than 1 percent. TitleLen also has a p value of 15.4%. Therefore, because our previous model is nearly just as accurate and less complex, I will stick with that model instead of adopting this one. "
   ]
  },
  {
   "cell_type": "markdown",
   "metadata": {},
   "source": [
    "### Part 3 - Classification"
   ]
  },
  {
   "cell_type": "code",
   "execution_count": 15,
   "metadata": {},
   "outputs": [
    {
     "name": "stdout",
     "output_type": "stream",
     "text": [
      "      age  comCount  points  rank  \\\n",
      "0     180        24     128     1   \n",
      "1     240       165     555     2   \n",
      "2      31         6      16     3   \n",
      "3     300        92     252     4   \n",
      "4      60         2      46     5   \n",
      "5     540       116     442     6   \n",
      "6     120        17      25     7   \n",
      "7     120        63     105     8   \n",
      "8     360        27     121     9   \n",
      "9      54         0       6    10   \n",
      "10    180        12      49    11   \n",
      "11    300         6      72    12   \n",
      "12    540        96     223    13   \n",
      "13    420        69     155    14   \n",
      "14    300        17      70    15   \n",
      "15    540       100     210    16   \n",
      "16    780       100     364    17   \n",
      "17    480       141     143    18   \n",
      "18    180        17      58    19   \n",
      "19    600       249     186    20   \n",
      "20    240        29      45    21   \n",
      "21     60         0       6    22   \n",
      "22    360        16      73    23   \n",
      "23    660        12     178    24   \n",
      "24    360         7      59    25   \n",
      "25    240         4      34    26   \n",
      "26    480       135      75    27   \n",
      "27    660        52     144    28   \n",
      "28    240        15      29    29   \n",
      "29    540        13      84    30   \n",
      "..    ...       ...     ...   ...   \n",
      "120   240         6       8   121   \n",
      "121  1320        34      76   122   \n",
      "122   240         0       9   123   \n",
      "123   180         0       6   124   \n",
      "124  2880       296     382   125   \n",
      "125  1260        93     120   126   \n",
      "126  1080         0      15   127   \n",
      "127  1440         4      44   128   \n",
      "128  1380        29     101   129   \n",
      "129  1440        43     205   130   \n",
      "130  1440        32      33   131   \n",
      "131  1440         7     206   132   \n",
      "132  1440        26      27   133   \n",
      "133  1440        45     151   134   \n",
      "134   780        20      42   135   \n",
      "135  1440       459     691   136   \n",
      "136  1020         0      14   137   \n",
      "137   600         0       4   138   \n",
      "138  1440        87     119   139   \n",
      "139  1200         0      14   140   \n",
      "140  1440        15      41   141   \n",
      "141   300         1      20   142   \n",
      "142  1380         0      17   143   \n",
      "143  2880       133     488   144   \n",
      "144  1440         0       0   145   \n",
      "145  1440         4      29   146   \n",
      "146   600        23      21   147   \n",
      "147  1440       170     560   148   \n",
      "148  2880       146     345   149   \n",
      "149   600         0       3   150   \n",
      "\n",
      "                                                 title  titleLen  isFrontPg  \n",
      "0      CSS Grid Level 2 – subgrid is coming to Firefox        47          1  \n",
      "1    “Apps intended for kids may not include third-...        77          1  \n",
      "2                     RFC-1149: IP over Avian Carriers        32          1  \n",
      "3     Show HN: Bloom – A free and open source 'Google'        48          1  \n",
      "4    Why It Is Important That Software Projects Fai...        54          1  \n",
      "5    Actix-web 1.0 – A small, pragmatic, and fast w...        67          1  \n",
      "6    How do I delete bytes from the beginning of a ...        58          1  \n",
      "7       How does Apple privately find offline devices?        46          1  \n",
      "8    PSPTool Is a Swiss Army Knife for the Firmware...        74          1  \n",
      "9                  OpenBSD Recent Security Innovations        35          1  \n",
      "10              Arc.io – A Crowdfunded Distributed CDN        38          1  \n",
      "11   Using machine learning to estimate lost demand...        69          1  \n",
      "12   Writing a game engine in pure C: The Graphic I...        59          1  \n",
      "13   Quantum Leaps, Long Assumed to Be Instantaneou...        58          1  \n",
      "14   Amazon Unveils New Alexa Dialog Modeling for N...        79          1  \n",
      "15   On the Impact of Programming Languages on Code...        54          1  \n",
      "16   The cutting-edge of cutting: How Japanese scis...        70          1  \n",
      "17                                  Languages of India        18          1  \n",
      "18                          The Euthanasia That Wasn’t        26          1  \n",
      "19   The charm of buying old workstation hardware o...        57          1  \n",
      "20    The DevOps Phenomenon: An executive crash course        48          1  \n",
      "21   The Perpetual Diamond: Contrast Reversal Along...        80          1  \n",
      "22                              Julia Summer of Einsum        22          1  \n",
      "23   Statistical Rethinking: A Bayesian Course Usin...        58          1  \n",
      "24           The Forecaster: The Man Who Decided D-Day        41          1  \n",
      "25   How Canary Deployments Work in Kubernetes, Ist...        60          1  \n",
      "26   Peloton Confidentially Files Statement for Pro...        55          1  \n",
      "27       Bees can link symbols to numbers, study finds        45          1  \n",
      "28                         Notice of Security Incident        27          1  \n",
      "29   Distributed Locks Are Dead; Long Live Distribu...        55          1  \n",
      "..                                                 ...       ...        ...  \n",
      "120  Oakland Is Second U.S. City to Legalize Magic ...        55          0  \n",
      "121  NSA Cybersecurity Advisory: Patch Remote Deskt...        75          0  \n",
      "122  Bill Gates and Travis Kalanick Invest in A.I. ...        67          0  \n",
      "123                           The Startup Failure Myth        24          0  \n",
      "124  Antitrust Troubles Snowball for Tech Giants as...        64          0  \n",
      "125  Cat Declawing Is Banned by New York State Lawm...        51          0  \n",
      "126  Sleeping in Doesn’t Mitigate Metabolic Changes...        70          0  \n",
      "127                             A Summer of Julia 2019        22          0  \n",
      "128  Lo-fi hiphop beats mixed with live police scan...        50          0  \n",
      "129                                    The Bloom Clock        15          0  \n",
      "130  Why Does Google Know Everything You’ve Bought ...        79          0  \n",
      "131              Meta-Learners – Learning how to learn        37          0  \n",
      "132            Mental Health App Talkspace Raises $50M        39          0  \n",
      "133  Annotated Hacker News traffic since the beginning        49          0  \n",
      "134  Understanding the experiences and needs of a m...        72          0  \n",
      "135        Apple is now a privacy-as-a-service company        43          0  \n",
      "136               Data Validation for Machine Learning        36          0  \n",
      "137  Australian Police Raids Target News Media over...        63          0  \n",
      "138  FBI alleges that DC Solar Scammed Berkshire Ha...        65          0  \n",
      "139          Design/Layout GUI with Visual Studio Code        41          0  \n",
      "140            Joseph Menn on the Cult of the Dead Cow        39          0  \n",
      "141  Stanford's CS Curriculum Has a Class on “How t...        72          0  \n",
      "142                     Philippe Petit, Artist of Life        30          0  \n",
      "143  Taiwan's digital minister on combatting disinf...        73          0  \n",
      "144  OneSignal Is Hiring Full Stack Engineers in Sa...        53          0  \n",
      "145  “Summa de Arithmetica, Geometria, Proportioni ...        76          0  \n",
      "146  Hero engineers can be deadly to team culture, ...        77          0  \n",
      "147  If 'Big Tech' Is an Antitrust Problem, Why Are...        67          0  \n",
      "148  Differences between the word2vec paper and its...        61          0  \n",
      "149  James Holzhauer Broke ‘Jeopardy’, but Is Broke...        55          0  \n",
      "\n",
      "[150 rows x 7 columns]\n"
     ]
    }
   ],
   "source": [
    "firstPage = []\n",
    "def isFrontPage(rank):\n",
    "    return  0 if rank > 30 else 1\n",
    "\n",
    "[firstPage.append(isFrontPage(rank)) for rank in hn['rank']]\n",
    "\n",
    "firstPage = np.array(firstPage)\n",
    "isFrontPg = pd.DataFrame(firstPage, columns = [\"isFrontPg\"])\n",
    "frames = [hn, isFrontPg]\n",
    "hn = pd.concat(frames, axis = 1)\n",
    "print(hn)"
   ]
  },
  {
   "cell_type": "code",
   "execution_count": 16,
   "metadata": {},
   "outputs": [
    {
     "name": "stdout",
     "output_type": "stream",
     "text": [
      "Index(['age', 'comCount', 'points', 'rank', 'title', 'titleLen', 'isFrontPg'], dtype='object')\n",
      "Optimization terminated successfully.\n",
      "         Current function value: 0.496934\n",
      "         Iterations 6\n"
     ]
    },
    {
     "data": {
      "text/html": [
       "<table class=\"simpletable\">\n",
       "<caption>Logit Regression Results</caption>\n",
       "<tr>\n",
       "  <th>Dep. Variable:</th>     <td>isFrontPg</td>    <th>  No. Observations:  </th>  <td>   150</td> \n",
       "</tr>\n",
       "<tr>\n",
       "  <th>Model:</th>               <td>Logit</td>      <th>  Df Residuals:      </th>  <td>   148</td> \n",
       "</tr>\n",
       "<tr>\n",
       "  <th>Method:</th>               <td>MLE</td>       <th>  Df Model:          </th>  <td>     1</td> \n",
       "</tr>\n",
       "<tr>\n",
       "  <th>Date:</th>          <td>Wed, 05 Jun 2019</td> <th>  Pseudo R-squ.:     </th> <td>0.006930</td>\n",
       "</tr>\n",
       "<tr>\n",
       "  <th>Time:</th>              <td>17:22:31</td>     <th>  Log-Likelihood:    </th> <td> -74.540</td>\n",
       "</tr>\n",
       "<tr>\n",
       "  <th>converged:</th>           <td>True</td>       <th>  LL-Null:           </th> <td> -75.060</td>\n",
       "</tr>\n",
       "<tr>\n",
       "  <th> </th>                      <td> </td>        <th>  LLR p-value:       </th>  <td>0.3077</td> \n",
       "</tr>\n",
       "</table>\n",
       "<table class=\"simpletable\">\n",
       "<tr>\n",
       "      <td></td>         <th>coef</th>     <th>std err</th>      <th>z</th>      <th>P>|z|</th>  <th>[0.025</th>    <th>0.975]</th>  \n",
       "</tr>\n",
       "<tr>\n",
       "  <th>Intercept</th> <td>   -1.2371</td> <td>    0.248</td> <td>   -4.980</td> <td> 0.000</td> <td>   -1.724</td> <td>   -0.750</td>\n",
       "</tr>\n",
       "<tr>\n",
       "  <th>comCount</th>  <td>   -0.0024</td> <td>    0.003</td> <td>   -0.955</td> <td> 0.339</td> <td>   -0.007</td> <td>    0.003</td>\n",
       "</tr>\n",
       "</table>"
      ],
      "text/plain": [
       "<class 'statsmodels.iolib.summary.Summary'>\n",
       "\"\"\"\n",
       "                           Logit Regression Results                           \n",
       "==============================================================================\n",
       "Dep. Variable:              isFrontPg   No. Observations:                  150\n",
       "Model:                          Logit   Df Residuals:                      148\n",
       "Method:                           MLE   Df Model:                            1\n",
       "Date:                Wed, 05 Jun 2019   Pseudo R-squ.:                0.006930\n",
       "Time:                        17:22:31   Log-Likelihood:                -74.540\n",
       "converged:                       True   LL-Null:                       -75.060\n",
       "                                        LLR p-value:                    0.3077\n",
       "==============================================================================\n",
       "                 coef    std err          z      P>|z|      [0.025      0.975]\n",
       "------------------------------------------------------------------------------\n",
       "Intercept     -1.2371      0.248     -4.980      0.000      -1.724      -0.750\n",
       "comCount      -0.0024      0.003     -0.955      0.339      -0.007       0.003\n",
       "==============================================================================\n",
       "\"\"\""
      ]
     },
     "execution_count": 16,
     "metadata": {},
     "output_type": "execute_result"
    }
   ],
   "source": [
    "print(hn.columns)\n",
    "lr_comCount = sm.logit(formula=\"isFrontPg ~ comCount\", data=hn).fit()\n",
    "lr_comCount.summary()"
   ]
  },
  {
   "cell_type": "code",
   "execution_count": 17,
   "metadata": {},
   "outputs": [
    {
     "data": {
      "text/plain": [
       "[<matplotlib.lines.Line2D at 0x1022e1208>]"
      ]
     },
     "execution_count": 17,
     "metadata": {},
     "output_type": "execute_result"
    },
    {
     "data": {
      "image/png": "[encoded data removed]",
      "text/plain": [
       "<Figure size 432x288 with 1 Axes>"
      ]
     },
     "metadata": {
      "needs_background": "light"
     },
     "output_type": "display_data"
    }
   ],
   "source": [
    "factors = hn[['comCount','age','points', 'titleLen', 'isFrontPg', 'rank']]\n",
    "# print(factors)\n",
    "factors.plot.scatter(x='comCount', y='isFrontPg')\n",
    "logistic = lambda x: 1 / (1 + sc.exp(-x))\n",
    "params = dict(lr_comCount.params)\n",
    "\n",
    "x = sc.linspace(factors['comCount'].min(),factors['comCount'].max(),1000)\n",
    "plt.plot(x, logistic(params['Intercept'] + params['comCount']* x), color =\"black\", label='logistic(x)')"
   ]
  },
  {
   "cell_type": "code",
   "execution_count": 18,
   "metadata": {},
   "outputs": [
    {
     "name": "stdout",
     "output_type": "stream",
     "text": [
      "Optimization terminated successfully.\n",
      "         Current function value: 0.370076\n",
      "         Iterations 8\n"
     ]
    },
    {
     "data": {
      "text/plain": [
       "[<matplotlib.lines.Line2D at 0x102e25320>]"
      ]
     },
     "execution_count": 18,
     "metadata": {},
     "output_type": "execute_result"
    },
    {
     "data": {
      "image/png": "[encoded data removed]",
      "text/plain": [
       "<Figure size 432x288 with 1 Axes>"
      ]
     },
     "metadata": {
      "needs_background": "light"
     },
     "output_type": "display_data"
    }
   ],
   "source": [
    "lr_age = sm.logit(formula=\"isFrontPg ~ age\", data=hn).fit()\n",
    "x = sc.linspace(factors['age'].min(), factors['age'].max(), 1000)\n",
    "factors.plot.scatter(x='age', y=\"isFrontPg\", s=30)\n",
    "params = dict(lr_age.params)\n",
    "plt.plot(x, logistic(params['Intercept'] + params['age']*x))"
   ]
  },
  {
   "cell_type": "code",
   "execution_count": 19,
   "metadata": {},
   "outputs": [
    {
     "name": "stdout",
     "output_type": "stream",
     "text": [
      "Optimization terminated successfully.\n",
      "         Current function value: 0.324819\n",
      "         Iterations 8\n"
     ]
    },
    {
     "data": {
      "text/html": [
       "<div>\n",
       "<style scoped>\n",
       "    .dataframe tbody tr th:only-of-type {\n",
       "        vertical-align: middle;\n",
       "    }\n",
       "\n",
       "    .dataframe tbody tr th {\n",
       "        vertical-align: top;\n",
       "    }\n",
       "\n",
       "    .dataframe thead th {\n",
       "        text-align: right;\n",
       "    }\n",
       "</style>\n",
       "<table border=\"1\" class=\"dataframe\">\n",
       "  <thead>\n",
       "    <tr style=\"text-align: right;\">\n",
       "      <th>pred_all</th>\n",
       "      <th>False</th>\n",
       "      <th>True</th>\n",
       "    </tr>\n",
       "    <tr>\n",
       "      <th>isFrontPg</th>\n",
       "      <th></th>\n",
       "      <th></th>\n",
       "    </tr>\n",
       "  </thead>\n",
       "  <tbody>\n",
       "    <tr>\n",
       "      <th>0</th>\n",
       "      <td>112</td>\n",
       "      <td>8</td>\n",
       "    </tr>\n",
       "    <tr>\n",
       "      <th>1</th>\n",
       "      <td>18</td>\n",
       "      <td>12</td>\n",
       "    </tr>\n",
       "  </tbody>\n",
       "</table>\n",
       "</div>"
      ],
      "text/plain": [
       "pred_all   False  True \n",
       "isFrontPg              \n",
       "0            112      8\n",
       "1             18     12"
      ]
     },
     "metadata": {},
     "output_type": "display_data"
    },
    {
     "data": {
      "text/html": [
       "<table class=\"simpletable\">\n",
       "<caption>Logit Regression Results</caption>\n",
       "<tr>\n",
       "  <th>Dep. Variable:</th>     <td>isFrontPg</td>    <th>  No. Observations:  </th>  <td>   150</td>  \n",
       "</tr>\n",
       "<tr>\n",
       "  <th>Model:</th>               <td>Logit</td>      <th>  Df Residuals:      </th>  <td>   145</td>  \n",
       "</tr>\n",
       "<tr>\n",
       "  <th>Method:</th>               <td>MLE</td>       <th>  Df Model:          </th>  <td>     4</td>  \n",
       "</tr>\n",
       "<tr>\n",
       "  <th>Date:</th>          <td>Wed, 05 Jun 2019</td> <th>  Pseudo R-squ.:     </th>  <td>0.3509</td>  \n",
       "</tr>\n",
       "<tr>\n",
       "  <th>Time:</th>              <td>17:22:32</td>     <th>  Log-Likelihood:    </th> <td> -48.723</td> \n",
       "</tr>\n",
       "<tr>\n",
       "  <th>converged:</th>           <td>True</td>       <th>  LL-Null:           </th> <td> -75.060</td> \n",
       "</tr>\n",
       "<tr>\n",
       "  <th> </th>                      <td> </td>        <th>  LLR p-value:       </th> <td>9.966e-11</td>\n",
       "</tr>\n",
       "</table>\n",
       "<table class=\"simpletable\">\n",
       "<tr>\n",
       "      <td></td>         <th>coef</th>     <th>std err</th>      <th>z</th>      <th>P>|z|</th>  <th>[0.025</th>    <th>0.975]</th>  \n",
       "</tr>\n",
       "<tr>\n",
       "  <th>Intercept</th> <td>    1.4224</td> <td>    0.910</td> <td>    1.563</td> <td> 0.118</td> <td>   -0.361</td> <td>    3.206</td>\n",
       "</tr>\n",
       "<tr>\n",
       "  <th>comCount</th>  <td>   -0.0038</td> <td>    0.004</td> <td>   -0.951</td> <td> 0.342</td> <td>   -0.012</td> <td>    0.004</td>\n",
       "</tr>\n",
       "<tr>\n",
       "  <th>age</th>       <td>   -0.0060</td> <td>    0.001</td> <td>   -4.387</td> <td> 0.000</td> <td>   -0.009</td> <td>   -0.003</td>\n",
       "</tr>\n",
       "<tr>\n",
       "  <th>points</th>    <td>    0.0089</td> <td>    0.003</td> <td>    3.218</td> <td> 0.001</td> <td>    0.003</td> <td>    0.014</td>\n",
       "</tr>\n",
       "<tr>\n",
       "  <th>titleLen</th>  <td>   -0.0099</td> <td>    0.015</td> <td>   -0.678</td> <td> 0.498</td> <td>   -0.039</td> <td>    0.019</td>\n",
       "</tr>\n",
       "</table>"
      ],
      "text/plain": [
       "<class 'statsmodels.iolib.summary.Summary'>\n",
       "\"\"\"\n",
       "                           Logit Regression Results                           \n",
       "==============================================================================\n",
       "Dep. Variable:              isFrontPg   No. Observations:                  150\n",
       "Model:                          Logit   Df Residuals:                      145\n",
       "Method:                           MLE   Df Model:                            4\n",
       "Date:                Wed, 05 Jun 2019   Pseudo R-squ.:                  0.3509\n",
       "Time:                        17:22:32   Log-Likelihood:                -48.723\n",
       "converged:                       True   LL-Null:                       -75.060\n",
       "                                        LLR p-value:                 9.966e-11\n",
       "==============================================================================\n",
       "                 coef    std err          z      P>|z|      [0.025      0.975]\n",
       "------------------------------------------------------------------------------\n",
       "Intercept      1.4224      0.910      1.563      0.118      -0.361       3.206\n",
       "comCount      -0.0038      0.004     -0.951      0.342      -0.012       0.004\n",
       "age           -0.0060      0.001     -4.387      0.000      -0.009      -0.003\n",
       "points         0.0089      0.003      3.218      0.001       0.003       0.014\n",
       "titleLen      -0.0099      0.015     -0.678      0.498      -0.039       0.019\n",
       "==============================================================================\n",
       "\"\"\""
      ]
     },
     "execution_count": 19,
     "metadata": {},
     "output_type": "execute_result"
    }
   ],
   "source": [
    "lr_all = sm.logit(formula=\"isFrontPg ~ comCount + age + points + titleLen\", data=factors).fit()\n",
    "\n",
    "factors['pred_all'] = lr_all.predict()>.5\n",
    "display(pd.crosstab(index=factors[\"isFrontPg\"], columns=factors[\"pred_all\"])) \n",
    "lr_all.summary()"
   ]
  },
  {
   "cell_type": "code",
   "execution_count": 20,
   "metadata": {},
   "outputs": [
    {
     "name": "stdout",
     "output_type": "stream",
     "text": [
      "Optimization terminated successfully.\n",
      "         Current function value: 0.499332\n",
      "         Iterations 5\n"
     ]
    },
    {
     "data": {
      "text/html": [
       "<div>\n",
       "<style scoped>\n",
       "    .dataframe tbody tr th:only-of-type {\n",
       "        vertical-align: middle;\n",
       "    }\n",
       "\n",
       "    .dataframe tbody tr th {\n",
       "        vertical-align: top;\n",
       "    }\n",
       "\n",
       "    .dataframe thead th {\n",
       "        text-align: right;\n",
       "    }\n",
       "</style>\n",
       "<table border=\"1\" class=\"dataframe\">\n",
       "  <thead>\n",
       "    <tr style=\"text-align: right;\">\n",
       "      <th>pred_points</th>\n",
       "      <th>False</th>\n",
       "    </tr>\n",
       "    <tr>\n",
       "      <th>isFrontPg</th>\n",
       "      <th></th>\n",
       "    </tr>\n",
       "  </thead>\n",
       "  <tbody>\n",
       "    <tr>\n",
       "      <th>0</th>\n",
       "      <td>120</td>\n",
       "    </tr>\n",
       "    <tr>\n",
       "      <th>1</th>\n",
       "      <td>30</td>\n",
       "    </tr>\n",
       "  </tbody>\n",
       "</table>\n",
       "</div>"
      ],
      "text/plain": [
       "pred_points  False\n",
       "isFrontPg         \n",
       "0              120\n",
       "1               30"
      ]
     },
     "metadata": {},
     "output_type": "display_data"
    }
   ],
   "source": [
    "lr_points = sm.logit(formula=\"isFrontPg ~ points\", data=factors).fit()\n",
    "lr_points.summary()\n",
    "factors['pred_points'] = lr_points.predict()>.5\n",
    "display(pd.crosstab(index=factors[\"isFrontPg\"], columns=factors[\"pred_points\"])) "
   ]
  },
  {
   "cell_type": "code",
   "execution_count": 21,
   "metadata": {},
   "outputs": [
    {
     "name": "stdout",
     "output_type": "stream",
     "text": [
      "Optimization terminated successfully.\n",
      "         Current function value: 0.329686\n",
      "         Iterations 8\n"
     ]
    },
    {
     "data": {
      "text/html": [
       "<div>\n",
       "<style scoped>\n",
       "    .dataframe tbody tr th:only-of-type {\n",
       "        vertical-align: middle;\n",
       "    }\n",
       "\n",
       "    .dataframe tbody tr th {\n",
       "        vertical-align: top;\n",
       "    }\n",
       "\n",
       "    .dataframe thead th {\n",
       "        text-align: right;\n",
       "    }\n",
       "</style>\n",
       "<table border=\"1\" class=\"dataframe\">\n",
       "  <thead>\n",
       "    <tr style=\"text-align: right;\">\n",
       "      <th>pred_age_points</th>\n",
       "      <th>False</th>\n",
       "      <th>True</th>\n",
       "    </tr>\n",
       "    <tr>\n",
       "      <th>isFrontPg</th>\n",
       "      <th></th>\n",
       "      <th></th>\n",
       "    </tr>\n",
       "  </thead>\n",
       "  <tbody>\n",
       "    <tr>\n",
       "      <th>0</th>\n",
       "      <td>113</td>\n",
       "      <td>7</td>\n",
       "    </tr>\n",
       "    <tr>\n",
       "      <th>1</th>\n",
       "      <td>18</td>\n",
       "      <td>12</td>\n",
       "    </tr>\n",
       "  </tbody>\n",
       "</table>\n",
       "</div>"
      ],
      "text/plain": [
       "pred_age_points  False  True \n",
       "isFrontPg                    \n",
       "0                  113      7\n",
       "1                   18     12"
      ]
     },
     "metadata": {},
     "output_type": "display_data"
    },
    {
     "data": {
      "text/html": [
       "<table class=\"simpletable\">\n",
       "<caption>Logit Regression Results</caption>\n",
       "<tr>\n",
       "  <th>Dep. Variable:</th>     <td>isFrontPg</td>    <th>  No. Observations:  </th>  <td>   150</td>  \n",
       "</tr>\n",
       "<tr>\n",
       "  <th>Model:</th>               <td>Logit</td>      <th>  Df Residuals:      </th>  <td>   147</td>  \n",
       "</tr>\n",
       "<tr>\n",
       "  <th>Method:</th>               <td>MLE</td>       <th>  Df Model:          </th>  <td>     2</td>  \n",
       "</tr>\n",
       "<tr>\n",
       "  <th>Date:</th>          <td>Wed, 05 Jun 2019</td> <th>  Pseudo R-squ.:     </th>  <td>0.3412</td>  \n",
       "</tr>\n",
       "<tr>\n",
       "  <th>Time:</th>              <td>17:22:32</td>     <th>  Log-Likelihood:    </th> <td> -49.453</td> \n",
       "</tr>\n",
       "<tr>\n",
       "  <th>converged:</th>           <td>True</td>       <th>  LL-Null:           </th> <td> -75.060</td> \n",
       "</tr>\n",
       "<tr>\n",
       "  <th> </th>                      <td> </td>        <th>  LLR p-value:       </th> <td>7.565e-12</td>\n",
       "</tr>\n",
       "</table>\n",
       "<table class=\"simpletable\">\n",
       "<tr>\n",
       "      <td></td>         <th>coef</th>     <th>std err</th>      <th>z</th>      <th>P>|z|</th>  <th>[0.025</th>    <th>0.975]</th>  \n",
       "</tr>\n",
       "<tr>\n",
       "  <th>Intercept</th> <td>    0.8388</td> <td>    0.446</td> <td>    1.882</td> <td> 0.060</td> <td>   -0.035</td> <td>    1.712</td>\n",
       "</tr>\n",
       "<tr>\n",
       "  <th>age</th>       <td>   -0.0059</td> <td>    0.001</td> <td>   -4.376</td> <td> 0.000</td> <td>   -0.009</td> <td>   -0.003</td>\n",
       "</tr>\n",
       "<tr>\n",
       "  <th>points</th>    <td>    0.0073</td> <td>    0.002</td> <td>    3.227</td> <td> 0.001</td> <td>    0.003</td> <td>    0.012</td>\n",
       "</tr>\n",
       "</table>"
      ],
      "text/plain": [
       "<class 'statsmodels.iolib.summary.Summary'>\n",
       "\"\"\"\n",
       "                           Logit Regression Results                           \n",
       "==============================================================================\n",
       "Dep. Variable:              isFrontPg   No. Observations:                  150\n",
       "Model:                          Logit   Df Residuals:                      147\n",
       "Method:                           MLE   Df Model:                            2\n",
       "Date:                Wed, 05 Jun 2019   Pseudo R-squ.:                  0.3412\n",
       "Time:                        17:22:32   Log-Likelihood:                -49.453\n",
       "converged:                       True   LL-Null:                       -75.060\n",
       "                                        LLR p-value:                 7.565e-12\n",
       "==============================================================================\n",
       "                 coef    std err          z      P>|z|      [0.025      0.975]\n",
       "------------------------------------------------------------------------------\n",
       "Intercept      0.8388      0.446      1.882      0.060      -0.035       1.712\n",
       "age           -0.0059      0.001     -4.376      0.000      -0.009      -0.003\n",
       "points         0.0073      0.002      3.227      0.001       0.003       0.012\n",
       "==============================================================================\n",
       "\"\"\""
      ]
     },
     "execution_count": 21,
     "metadata": {},
     "output_type": "execute_result"
    }
   ],
   "source": [
    "lr_age_points = sm.logit(formula=\"isFrontPg ~  age + points\", data=factors).fit()\n",
    "\n",
    "factors['pred_age_points'] = lr_age_points.predict()>.5\n",
    "display(pd.crosstab(index=factors[\"isFrontPg\"], columns=factors[\"pred_age_points\"])) \n",
    "lr_age_points.summary()"
   ]
  },
  {
   "cell_type": "code",
   "execution_count": 35,
   "metadata": {},
   "outputs": [
    {
     "data": {
      "text/plain": [
       "[<matplotlib.lines.Line2D at 0x119dedfd0>]"
      ]
     },
     "execution_count": 35,
     "metadata": {},
     "output_type": "execute_result"
    },
    {
     "data": {
      "image/png": "[encoded data removed]",
      "text/plain": [
       "<Figure size 432x288 with 1 Axes>"
      ]
     },
     "metadata": {
      "needs_background": "light"
     },
     "output_type": "display_data"
    }
   ],
   "source": [
    "ax = factors[factors['isFrontPg']==0].plot.scatter(x='age',y='points',color='red',label='Not Front Pg')\n",
    "factors[factors['isFrontPg']==1].plot.scatter(x='age',y='points',color='blue',label='Front Page', ax=ax)\n",
    "x = sc.linspace(0,3000,1000)\n",
    "params = dict(lr_age_points.params)\n",
    "odds = lambda p: p/(1-p)\n",
    "logit = lambda p: sc.log(odds(p))\n",
    "plt.plot(x,(1/params['points'])*(logit(.5) - params['Intercept'] - params['age']*x),color='Black')"
   ]
  },
  {
   "cell_type": "code",
   "execution_count": null,
   "metadata": {},
   "outputs": [],
   "source": []
  },
  {
   "cell_type": "markdown",
   "metadata": {},
   "source": [
    "#### The above analysis would suggest that none of the equations above will acurately predict which post is on the front page reliably. Our best model is to use age and points together which accurately predicts some of the time, but also has a lot of false negatives where it will predict articles not being on the front page when they actually are. "
   ]
  },
  {
   "cell_type": "code",
   "execution_count": null,
   "metadata": {},
   "outputs": [],
   "source": []
  }
 ],
 "metadata": {
  "kernelspec": {
   "display_name": "Python 3",
   "language": "python",
   "name": "python3"
  },
  "language_info": {
   "codemirror_mode": {
    "name": "ipython",
    "version": 3
   },
   "file_extension": ".py",
   "mimetype": "text/x-python",
   "name": "python",
   "nbconvert_exporter": "python",
   "pygments_lexer": "ipython3",
   "version": "3.7.3"
  }
 },
 "nbformat": 4,
 "nbformat_minor": 2
}
